{
 "cells": [
  {
   "cell_type": "code",
   "execution_count": 4,
   "id": "c28d1029-e8e0-4e56-b1f0-547c218a1a94",
   "metadata": {},
   "outputs": [],
   "source": [
    "import os\n",
    "import numpy as np\n",
    "import pandas as pd\n",
    "\n",
    "from airpollution_trf_graph_loader import AirpollutionDatasetLoader"
   ]
  },
  {
   "cell_type": "code",
   "execution_count": 6,
   "id": "47f17d6c-6581-4f0d-8423-e27339cdb27d",
   "metadata": {},
   "outputs": [
    {
     "data": {
      "text/plain": [
       "{'trf': 4, 'ap0': 2, 'ap1': 5, 'ap2': 2, 'ap3': 1}"
      ]
     },
     "execution_count": 6,
     "metadata": {},
     "output_type": "execute_result"
    }
   ],
   "source": [
    "_T= 12 #target time horizon to analyze\n",
    "_city= 'madrid'\n",
    "\n",
    "loader= AirpollutionDatasetLoader(_city)\n",
    "dataset=loader.get_dataset(T=_T)\n",
    "\n",
    "feature_dim= loader.get_feature_dim()\n",
    "feature_dim"
   ]
  },
  {
   "cell_type": "code",
   "execution_count": 10,
   "id": "0355a8c3-4375-40bc-9dfd-ec59306b0f6a",
   "metadata": {},
   "outputs": [
    {
     "data": {
      "text/plain": [
       "['trf', 'ap0', 'ap1', 'ap2', 'ap3']"
      ]
     },
     "execution_count": 10,
     "metadata": {},
     "output_type": "execute_result"
    }
   ],
   "source": [
    "target_nodes= list(feature_dim.keys())\n",
    "target_nodes"
   ]
  },
  {
   "cell_type": "code",
   "execution_count": 12,
   "id": "7f02a6c0-c0a8-4827-a6b6-79d742aebe5e",
   "metadata": {},
   "outputs": [],
   "source": [
    "y_hat_dict= {}\n",
    "y_true_dict= {}\n",
    "\n",
    "for k in target_nodes:\n",
    "    _df= pd.read_csv(os.path.join('results',f'y_hat_{_city}_{_T}_{k}.csv'), index_col=0)\n",
    "    y_hat_dict[k]= _df\n",
    "\n",
    "    _df= pd.read_csv(os.path.join('results',f'y_true_{_city}_{_T}_{k}.csv'), index_col=0)\n",
    "    y_true_dict[k]= _df"
   ]
  },
  {
   "cell_type": "code",
   "execution_count": 13,
   "id": "dbe78f79-7ce9-41c2-99eb-f3aaf0094896",
   "metadata": {
    "scrolled": true
   },
   "outputs": [
    {
     "data": {
      "text/plain": [
       "{'trf':        Car  Motorcycle   Bus  Truck\n",
       " 0     85.0         0.0   8.0    2.0\n",
       " 1     14.0         0.0   0.0    0.0\n",
       " 2    105.0         1.0   2.0    7.0\n",
       " 3     38.0         4.0   0.0    0.0\n",
       " 4     32.0        43.0   5.0    1.0\n",
       " ..     ...         ...   ...    ...\n",
       " 177   71.0         2.0  15.0    9.0\n",
       " 178    8.0         0.0   0.0    0.0\n",
       " 179    3.0         0.0   0.0    1.0\n",
       " 180   80.0         0.0   2.0   17.0\n",
       " 181   48.0         1.0   2.0   30.0\n",
       " \n",
       " [182 rows x 4 columns],\n",
       " 'ap0':      CO  SO2\n",
       " 0   0.7  2.0\n",
       " 1   0.6  1.0\n",
       " 2   0.5  1.0\n",
       " 3   0.4  1.0\n",
       " 4   0.4  1.0\n",
       " 5   0.4  1.0\n",
       " 6   0.3  1.0\n",
       " 7   0.3  1.0\n",
       " 8   0.4  1.0\n",
       " 9   0.4  1.0\n",
       " 10  0.6  3.0\n",
       " 11  0.8  3.0\n",
       " 12  0.7  3.0\n",
       " 13  0.5  2.0,\n",
       " 'ap1':      CO    O3  PM10  PM25  SO2\n",
       " 0   1.1   4.0  82.0  26.0  1.0\n",
       " 1   1.3   4.0  65.0  22.0  1.0\n",
       " 2   0.7   7.0  48.0  18.0  1.0\n",
       " 3   0.2  45.0  34.0  17.0  1.0\n",
       " 4   0.1  65.0  19.0  10.0  1.0\n",
       " 5   0.1  52.0  24.0  12.0  1.0\n",
       " 6   0.1  52.0  22.0  11.0  1.0\n",
       " 7   0.1  52.0  16.0   7.0  1.0\n",
       " 8   0.1  31.0  17.0   7.0  1.0\n",
       " 9   0.2  12.0  22.0   9.0  1.0\n",
       " 10  0.3  10.0  26.0  12.0  1.0\n",
       " 11  0.4  18.0  34.0  16.0  1.0\n",
       " 12  0.2  39.0  31.0  11.0  1.0\n",
       " 13  0.2  55.0  21.0   7.0  1.0,\n",
       " 'ap2':     PM10  PM25\n",
       " 0   56.0  25.0\n",
       " 1   41.0  18.0\n",
       " 2   29.0  13.0\n",
       " 3   26.0  13.0\n",
       " 4   20.0   9.0\n",
       " 5   22.0  13.0\n",
       " 6   16.0   8.0\n",
       " 7   23.0  15.0\n",
       " 8   14.0   7.0\n",
       " 9   23.0  13.0\n",
       " 10  28.0  15.0\n",
       " 11  32.0  14.0\n",
       " 12  18.0   4.0\n",
       " 13  32.0  11.0,\n",
       " 'ap3':       O3\n",
       " 0    9.0\n",
       " 1    8.0\n",
       " 2    5.0\n",
       " 3   11.0\n",
       " 4   38.0\n",
       " 5   46.0\n",
       " 6   43.0\n",
       " 7   39.0\n",
       " 8   34.0\n",
       " 9   27.0\n",
       " 10  14.0\n",
       " 11  13.0\n",
       " 12  35.0\n",
       " 13  52.0}"
      ]
     },
     "execution_count": 13,
     "metadata": {},
     "output_type": "execute_result"
    }
   ],
   "source": [
    "y_true_dict"
   ]
  },
  {
   "cell_type": "code",
   "execution_count": null,
   "id": "bf91205f-0697-4984-b886-7e79c9e9426f",
   "metadata": {},
   "outputs": [],
   "source": [
    "def mape_fn(actual, pred):\n",
    "    #print(actual)\n",
    "    actual, pred = np.array(actual), np.array(pred)\n",
    "    return np.mean(np.abs((actual - pred) / (actual+0.01))) * 100\n",
    "\n",
    "def compute_metrics_as_dataframe_fn(y_valid, y_hat, particle_name):\n",
    "    metrics= []\n",
    "    metrics_global = {'mse':[],'rmse':[],'mae':[],'cvrmse':[],'mape':[],}\n",
    "\n",
    "    try:\n",
    "        mae = mean_absolute_error(y_valid, y_hat)\n",
    "        mse = mean_squared_error(y_valid, y_hat)\n",
    "        rmse= mean_squared_error(y_valid, y_hat, squared = False)\n",
    "        cvrmse =  (rmse/np.mean(y_valid))*100 # it is a percentage\n",
    "        mape = mape_fn(y_valid, y_hat)\n",
    "\n",
    "        metrics.append((time_horizon, str(particle_name), mae, mse, rmse, cvrmse, mape))\n",
    "\n",
    "\n",
    "        metrics_df = pd.DataFrame.from_records(metrics, columns='T particle MAE MSE RMSE CVRMSE MAPE'.split())\n",
    "\n",
    "        return metrics_df\n",
    "    except:\n",
    "        return None"
   ]
  },
  {
   "cell_type": "code",
   "execution_count": null,
   "id": "93825b35-5b88-4862-b242-67a6606922d5",
   "metadata": {},
   "outputs": [],
   "source": [
    "for k in target_nodes:\n",
    "    "
   ]
  }
 ],
 "metadata": {
  "kernelspec": {
   "display_name": "Python 3 (ipykernel)",
   "language": "python",
   "name": "python3"
  },
  "language_info": {
   "codemirror_mode": {
    "name": "ipython",
    "version": 3
   },
   "file_extension": ".py",
   "mimetype": "text/x-python",
   "name": "python",
   "nbconvert_exporter": "python",
   "pygments_lexer": "ipython3",
   "version": "3.10.14"
  }
 },
 "nbformat": 4,
 "nbformat_minor": 5
}
